{
 "cells": [
  {
   "attachments": {},
   "cell_type": "markdown",
   "metadata": {},
   "source": [
    "### 1. Collect statistics from spreadsheet"
   ]
  },
  {
   "cell_type": "code",
   "execution_count": 14,
   "metadata": {},
   "outputs": [
    {
     "name": "stdout",
     "output_type": "stream",
     "text": [
      "  XNAT_PETSESSIONDATA ID   Subject  Date   Age  stabilization  studyType  \\\n",
      "0    OAS30001_AV45_d2430  OAS30001   NaN  71.0            NaN        NaN   \n",
      "1     OAS30001_FDG_d2650  OAS30001   NaN  72.0            NaN        NaN   \n",
      "2     OAS30001_PIB_d0423  OAS30001   NaN  66.0            NaN        NaN   \n",
      "3     OAS30001_PIB_d0847  OAS30001   NaN  67.0            NaN        NaN   \n",
      "4     OAS30001_PIB_d1317  OAS30001   NaN  68.0            NaN        NaN   \n",
      "\n",
      "   patientID  patientName  units  dose  ...  intermediate  half-life  isotope  \\\n",
      "0        NaN          NaN    NaN   NaN  ...           NaN        NaN      NaN   \n",
      "1        NaN          NaN    NaN   NaN  ...           NaN        NaN      NaN   \n",
      "2        NaN          NaN    NaN   NaN  ...           NaN        NaN      NaN   \n",
      "3        NaN          NaN    NaN   NaN  ...           NaN        NaN      NaN   \n",
      "4        NaN          NaN    NaN   NaN  ...           NaN        NaN      NaN   \n",
      "\n",
      "   startTime  transmissions  name  startTime.1  UID  FreeSurfers  PUPs  \n",
      "0        NaN            NaN   NaN          NaN  NaN          NaN   1.0  \n",
      "1        NaN            NaN   NaN          NaN  NaN          NaN   NaN  \n",
      "2        NaN            NaN   NaN          NaN  NaN          NaN   1.0  \n",
      "3        NaN            NaN   NaN          NaN  NaN          NaN   1.0  \n",
      "4        NaN            NaN   NaN          NaN  NaN          NaN   1.0  \n",
      "\n",
      "[5 rows x 24 columns]\n",
      "Number of PET scans: 2154\n"
     ]
    }
   ],
   "source": [
    "import pandas as pd\n",
    "\n",
    "pet_scan_table = pd.read_csv(\"spreadsheets/oasis/oasis_3_pet_sessions.csv\")\n",
    "print(pet_scan_table.head())\n",
    "print(f\"Number of PET scans: {pet_scan_table.shape[0]}\")"
   ]
  },
  {
   "cell_type": "code",
   "execution_count": 15,
   "metadata": {},
   "outputs": [
    {
     "name": "stdout",
     "output_type": "stream",
     "text": [
      "  XNAT_CTSESSIONDATA ID   Subject  Date  Age  dcmAccessionNumber  \\\n",
      "0     OAS30001_CT_d2438  OAS30001   NaN  NaN                 NaN   \n",
      "1     OAS30001_CT_d3132  OAS30001   NaN  NaN                 NaN   \n",
      "2     OAS30001_CT_d3746  OAS30001   NaN  NaN                 NaN   \n",
      "3     OAS30001_CT_d4467  OAS30001   NaN  NaN                 NaN   \n",
      "4     OAS30002_CT_d2345  OAS30002   NaN  NaN                 NaN   \n",
      "\n",
      "   dcmPatientId  dcmPatientName  UID  FreeSurfers  PUPs  \n",
      "0           NaN             NaN  NaN          NaN   NaN  \n",
      "1           NaN             NaN  NaN          NaN   NaN  \n",
      "2           NaN             NaN  NaN          NaN   NaN  \n",
      "3           NaN             NaN  NaN          NaN   NaN  \n",
      "4           NaN             NaN  NaN          NaN   NaN  \n",
      "Number of CT scans: 1469\n"
     ]
    }
   ],
   "source": [
    "ct_scan_table = pd.read_csv(\"spreadsheets/oasis/oasis_3_ct_sessions.csv\")\n",
    "print(ct_scan_table.head())\n",
    "print(f\"Number of CT scans: {ct_scan_table.shape[0]}\")"
   ]
  },
  {
   "cell_type": "code",
   "execution_count": 36,
   "metadata": {},
   "outputs": [
    {
     "name": "stdout",
     "output_type": "stream",
     "text": [
      "               MR ID  Date   Subject   Age Scanner  \\\n",
      "0  OAS30001_MR_d0129   NaN  OAS30001  65.0    3.0T   \n",
      "1  OAS30001_MR_d0757   NaN  OAS30001  67.0    3.0T   \n",
      "2  OAS30001_MR_d2430   NaN  OAS30001  71.0    3.0T   \n",
      "3  OAS30001_MR_d3132   NaN  OAS30001  73.0    3.0T   \n",
      "4  OAS30001_MR_d3746   NaN  OAS30001   NaN     NaN   \n",
      "\n",
      "                                               Scans  FreeSurfers  PUPs  \n",
      "0                            bold(3), T1w(2), T2w(2)          1.0   NaN  \n",
      "1  bold(2), dwi(1), minIP(1), swi(1), T1w(2), T2s...          1.0   NaN  \n",
      "2  angio(1), asl(1), dwi(2), fieldmap(3), FLAIR(1...          1.0   NaN  \n",
      "3  asl(2), bold(2), dwi(2), fieldmap(3), T1w(1), ...          1.0   NaN  \n",
      "4  angio(1), asl(1), bold(2), fieldmap(3), FLAIR(...          1.0   NaN  \n",
      "\n",
      "{'bold': 5114, 'T1w': 4116, 'T2w': 4051, 'dwi': 3269, 'minIP': 1231, 'swi': 1229, 'T2star': 2350, 'angio': 896, 'asl': 1337, 'fieldmap': 3818, 'FLAIR': 1381, 'pasl': 223, 'GRE': 1326}\n",
      "\n",
      "Modalities:\n",
      "dict_keys(['bold', 'T1w', 'T2w', 'dwi', 'minIP', 'swi', 'T2star', 'angio', 'asl', 'fieldmap', 'FLAIR', 'pasl', 'GRE'])\n",
      "\n",
      "Number of MR T1 scans: 4116\n",
      "Number of MR T2 scans: 4051\n",
      "Number of MR T2* scans: 2350\n",
      "Number of MR DTI scans: 3269\n",
      "Number of MR BOLD scans: 5114\n",
      "Number of MR ASL scans: 1337\n"
     ]
    }
   ],
   "source": [
    "mr_scan_table = pd.read_csv(\"spreadsheets/oasis/oasis_3_mr_sessions.csv\")\n",
    "print(mr_scan_table.head())\n",
    "\n",
    "# remove last 2 columns be\n",
    "mr_scan_table = mr_scan_table.iloc[:-2]\n",
    "\n",
    "scans = mr_scan_table['Scans'].str.split(',')\n",
    "scan_type_to_count_map = {}\n",
    "\n",
    "for scan_types in scans:\n",
    "    if not isinstance(scan_types, list):\n",
    "        continue\n",
    "    for scan_type in scan_types:\n",
    "        split_str = scan_type.split('(')\n",
    "        type_name = split_str[0].strip()\n",
    "        scan_count = int(split_str[1].split(')')[0])\n",
    "        if type_name not in scan_type_to_count_map:\n",
    "            scan_type_to_count_map[type_name] = 0\n",
    "        scan_type_to_count_map[type_name] += scan_count\n",
    "\n",
    "print()\n",
    "print(scan_type_to_count_map)\n",
    "print()\n",
    "print(\"Modalities:\")\n",
    "print(scan_type_to_count_map.keys())\n",
    "print()\n",
    "count = scan_type_to_count_map[\"T1w\"]\n",
    "print(f\"Number of MR T1 scans: {count}\")\n",
    "count = scan_type_to_count_map[\"T2w\"]\n",
    "print(f\"Number of MR T2 scans: {count}\")\n",
    "count = scan_type_to_count_map[\"T2star\"]\n",
    "print(f\"Number of MR T2* scans: {count}\")\n",
    "count = scan_type_to_count_map[\"FLAIR\"]\n",
    "print(f\"Number of MR FLAIR scans: {count}\")\n",
    "count = scan_type_to_count_map[\"dwi\"]\n",
    "print(f\"Number of MR DTI scans: {count}\")\n",
    "count = scan_type_to_count_map[\"bold\"]\n",
    "print(f\"Number of MR BOLD scans: {count}\")\n",
    "count = scan_type_to_count_map[\"asl\"]\n",
    "print(f\"Number of MR ASL scans: {count}\")"
   ]
  },
  {
   "attachments": {},
   "cell_type": "markdown",
   "metadata": {},
   "source": [
    "### 2. Download Oasis-3 Dataset"
   ]
  },
  {
   "attachments": {},
   "cell_type": "markdown",
   "metadata": {},
   "source": [
    "TODO: add download instructions"
   ]
  },
  {
   "attachments": {},
   "cell_type": "markdown",
   "metadata": {},
   "source": [
    "### 3. Implement PyTorch Dataset & Visualize"
   ]
  },
  {
   "cell_type": "code",
   "execution_count": null,
   "metadata": {},
   "outputs": [],
   "source": [
    "# TODO visualize and get volume resolution"
   ]
  }
 ],
 "metadata": {
  "kernelspec": {
   "display_name": "mlmi",
   "language": "python",
   "name": "python3"
  },
  "language_info": {
   "codemirror_mode": {
    "name": "ipython",
    "version": 3
   },
   "file_extension": ".py",
   "mimetype": "text/x-python",
   "name": "python",
   "nbconvert_exporter": "python",
   "pygments_lexer": "ipython3",
   "version": "3.11.3"
  },
  "orig_nbformat": 4
 },
 "nbformat": 4,
 "nbformat_minor": 2
}
