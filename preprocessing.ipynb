{
 "cells": [
  {
   "cell_type": "markdown",
   "metadata": {},
   "source": [
    "replicate the steps from Brats: https://cbica.github.io/CaPTk/preprocessing_brats.html\n",
    "\n",
    "1. unify orientations using FSL\n",
    "2. Register all modalites to T1w\n",
    "3. Register T1w to template (https://www.nitrc.org/projects/sri24)\n",
    "4. Perform skull stripping on T1w"
   ]
  }
 ],
 "metadata": {
  "language_info": {
   "name": "python"
  },
  "orig_nbformat": 4
 },
 "nbformat": 4,
 "nbformat_minor": 2
}
