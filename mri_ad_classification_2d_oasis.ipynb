{
 "cells": [
  {
   "cell_type": "code",
   "execution_count": 8,
   "metadata": {},
   "outputs": [
    {
     "name": "stdout",
     "output_type": "stream",
     "text": [
      "The autoreload extension is already loaded. To reload it, use:\n",
      "  %reload_ext autoreload\n",
      "MONAI version: 1.2.0\n",
      "Numpy version: 1.25.0\n"
     ]
    },
    {
     "name": "stdout",
     "output_type": "stream",
     "text": [
      "Pytorch version: 2.0.1+cu117\n",
      "MONAI flags: HAS_EXT = False, USE_COMPILED = False, USE_META_DICT = False\n",
      "MONAI rev id: c33f1ba588ee00229a309000e888f9817b4f1934\n",
      "MONAI __file__: /home/sven/miniconda3/envs/mlmi/lib/python3.11/site-packages/monai/__init__.py\n",
      "\n",
      "Optional dependencies:\n",
      "Pytorch Ignite version: NOT INSTALLED or UNKNOWN VERSION.\n",
      "ITK version: NOT INSTALLED or UNKNOWN VERSION.\n",
      "Nibabel version: 5.1.0\n",
      "scikit-image version: NOT INSTALLED or UNKNOWN VERSION.\n",
      "Pillow version: 10.0.0\n",
      "Tensorboard version: 2.13.0\n",
      "gdown version: NOT INSTALLED or UNKNOWN VERSION.\n",
      "TorchVision version: 0.15.2+cu117\n",
      "tqdm version: 4.65.0\n",
      "lmdb version: NOT INSTALLED or UNKNOWN VERSION.\n",
      "psutil version: 5.9.5\n",
      "pandas version: 2.0.3\n",
      "einops version: 0.6.1\n",
      "transformers version: NOT INSTALLED or UNKNOWN VERSION.\n",
      "mlflow version: NOT INSTALLED or UNKNOWN VERSION.\n",
      "pynrrd version: NOT INSTALLED or UNKNOWN VERSION.\n",
      "\n",
      "For details about installing the optional dependencies, please visit:\n",
      "    https://docs.monai.io/en/latest/installation.html#installing-the-recommended-dependencies\n",
      "\n"
     ]
    }
   ],
   "source": [
    "%load_ext autoreload\n",
    "%autoreload 2\n",
    "\n",
    "import os\n",
    "import shutil\n",
    "import tempfile\n",
    "import matplotlib.pyplot as plt\n",
    "import PIL\n",
    "import torch\n",
    "import numpy as np\n",
    "from sklearn.metrics import classification_report\n",
    "\n",
    "from monai.apps import download_and_extract\n",
    "from monai.config import print_config\n",
    "from monai.data import decollate_batch, DataLoader, CacheDataset, ThreadDataLoader\n",
    "from monai.metrics import ROCAUCMetric\n",
    "from monai.networks.nets import DenseNet121\n",
    "from monai.transforms import (\n",
    "    Activations,\n",
    "    EnsureChannelFirstd,\n",
    "    AsDiscrete,\n",
    "    Compose,\n",
    "    LoadImage,\n",
    "    LoadImaged,\n",
    "    RandFlip,\n",
    "    RandRotate,\n",
    "    RandZoom,\n",
    "    ScaleIntensity,\n",
    "    EnsureTyped,\n",
    "    Resized\n",
    ")\n",
    "from monai.utils import set_determinism\n",
    "\n",
    "print_config()"
   ]
  },
  {
   "cell_type": "code",
   "execution_count": 9,
   "metadata": {},
   "outputs": [],
   "source": [
    "import pandas as pd\n",
    "import os\n",
    "from enum import Enum\n",
    "\n",
    "class Modality(Enum):\n",
    "    MR_T1 = 1\n",
    "    MR_T2 = 2\n",
    "    MR_T2_STAR = 3\n",
    "    MR_FLAIR = 4\n",
    "    MR_TOF_MRA = 5\n",
    "\n",
    "def create_oasis_3_dataset(csv_path: str, dataset_root: str, modality: Modality, transform):\n",
    "    train_df = pd.read_csv(csv_path, sep=\";\")\n",
    "    train_df.fillna('', inplace=True)\n",
    "\n",
    "    column_name = \"\"\n",
    "    if modality == Modality.MR_T1:\n",
    "        column_name = \"MR T1w\"\n",
    "    elif modality == Modality.MR_T2:\n",
    "        column_name = \"MR T2w\"\n",
    "    elif modality == Modality.MR_T2_STAR:\n",
    "        column_name = \"MR T2*\"\n",
    "    elif modality == Modality.MR_FLAIR:\n",
    "        column_name = \"MR FLAIR\"\n",
    "    elif modality == Modality.MR_TOF_MRA:\n",
    "        column_name = \"MR TOF-MRA\"\n",
    "    else:\n",
    "        assert(False)\n",
    "\n",
    "    train_data = []\n",
    "    for index, row in train_df.iterrows():\n",
    "        rel_path = row[column_name]\n",
    "        if not rel_path:\n",
    "            continue\n",
    "        image_path = os.path.join(dataset_root, rel_path)\n",
    "        train_data.append({\"image\": image_path, \"label\" : row[\"cdr\"]})\n",
    "\n",
    "    return CacheDataset(data=train_data, transform=transform, cache_rate=0.5, num_workers=5, copy_cache=False)\n"
   ]
  },
  {
   "cell_type": "code",
   "execution_count": 13,
   "metadata": {},
   "outputs": [
    {
     "name": "stderr",
     "output_type": "stream",
     "text": [
      "Loading dataset: 100%|██████████| 1273/1273 [00:16<00:00, 75.26it/s]\n"
     ]
    }
   ],
   "source": [
    "train_table_path = \"csv/oasis/oasis_3_multimodal_train.csv\"\n",
    "\n",
    "dataset_root = \"/mnt/f/OASIS-3-MR-Sessions-2D/\"\n",
    "transform = Compose([LoadImaged(\"image\", image_only=True), EnsureChannelFirstd(\"image\", channel_dim=\"no_channel\"), EnsureTyped(\"image\"), Resized(keys=[\"image\"], spatial_size=(96, 96))])\n",
    "train_ds = create_oasis_3_dataset(csv_path=train_table_path, dataset_root=dataset_root, modality=Modality.MR_T1, transform=transform)\n",
    "# disable multi-workers because `ThreadDataLoader` works with multi-threads\n",
    "train_loader = ThreadDataLoader(train_ds, num_workers=0, batch_size=1, shuffle=True)"
   ]
  },
  {
   "cell_type": "code",
   "execution_count": 14,
   "metadata": {},
   "outputs": [
    {
     "name": "stdout",
     "output_type": "stream",
     "text": [
      "torch.Size([1, 96, 96])\n"
     ]
    },
    {
     "data": {
      "text/plain": [
       "<Figure size 1200x600 with 0 Axes>"
      ]
     },
     "metadata": {},
     "output_type": "display_data"
    }
   ],
   "source": [
    "dataiter = iter(train_loader)\n",
    "batch_sample = next(dataiter)\n",
    "images = batch_sample[\"image\"]\n",
    "labels = batch_sample[\"label\"]\n",
    "\n",
    "classes = [\"HC\", \"AD\"]\n",
    "\n",
    "plt.figure(figsize=(12, 6))\n",
    "i = 0\n",
    "for sample_data, sample_label in zip(images, labels):\n",
    "    sample = sample_data\n",
    "    print(sample.shape)\n",
    "    #plt.subplot(1, 4, i+1)  # Create a subplot for each sample\n",
    "   # plt.imshow(sample.T, cmap='gray', origin='lower')\n",
    "    # plt.title(f\"{classes[sample_label]}\")  # Display the label as the title\n",
    "    i += 1\n",
    "plt.show()"
   ]
  }
 ],
 "metadata": {
  "kernelspec": {
   "display_name": "mlmi",
   "language": "python",
   "name": "python3"
  },
  "language_info": {
   "codemirror_mode": {
    "name": "ipython",
    "version": 3
   },
   "file_extension": ".py",
   "mimetype": "text/x-python",
   "name": "python",
   "nbconvert_exporter": "python",
   "pygments_lexer": "ipython3",
   "version": "3.11.3"
  },
  "orig_nbformat": 4
 },
 "nbformat": 4,
 "nbformat_minor": 2
}
