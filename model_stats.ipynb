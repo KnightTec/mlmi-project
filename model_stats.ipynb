{
 "cells": [
  {
   "cell_type": "code",
   "execution_count": 1,
   "metadata": {},
   "outputs": [
    {
     "name": "stdout",
     "output_type": "stream",
     "text": [
      "DenseNet121: 6,951,745\n",
      "DenseNet169: 12,479,873\n",
      "DenseNet201: 18,088,577\n",
      "DenseNet264: 30,645,121\n",
      "SwinTransformer 3D (Swin UNETR): 8,062,002\n",
      "SwinTransformer 2D (Swin UNETR): 6,306,810\n"
     ]
    }
   ],
   "source": [
    "from monai.networks.nets import DenseNet121, DenseNet169, DenseNet201, DenseNet264\n",
    "from monai.networks.nets.swin_unetr import SwinTransformer\n",
    "\n",
    "model = DenseNet121(spatial_dims=2, in_channels=2, out_channels=1)\n",
    "print(f\"DenseNet121: {sum(p.numel() for p in model.parameters()):,}\")\n",
    "\n",
    "model = DenseNet169(spatial_dims=2, in_channels=1, out_channels=1)\n",
    "print(f\"DenseNet169: {sum(p.numel() for p in model.parameters()):,}\")\n",
    "\n",
    "model = DenseNet201(spatial_dims=2, in_channels=1, out_channels=1)\n",
    "print(f\"DenseNet201: {sum(p.numel() for p in model.parameters()):,}\")\n",
    "\n",
    "model = DenseNet264(spatial_dims=2, in_channels=1, out_channels=1)\n",
    "print(f\"DenseNet264: {sum(p.numel() for p in model.parameters()):,}\")\n",
    "\n",
    "model = SwinTransformer(\n",
    "            in_chans=1, \n",
    "            embed_dim=48,\n",
    "            window_size=(7, 7, 7),\n",
    "            patch_size=(2, 2, 2),\n",
    "            depths=[2, 2, 2, 2],\n",
    "            num_heads=[3, 6, 12, 24],\n",
    "        )\n",
    "print(f\"SwinTransformer 3D (Swin UNETR): {sum(p.numel() for p in model.parameters()):,}\")\n",
    "\n",
    "model = SwinTransformer(\n",
    "            in_chans=1, \n",
    "            embed_dim=48,\n",
    "            window_size=(7, 7),\n",
    "            patch_size=(2, 2),\n",
    "            depths=[2, 2, 2, 2],\n",
    "            num_heads=[3, 6, 12, 24],\n",
    "            spatial_dims=2\n",
    "        )\n",
    "print(f\"SwinTransformer 2D (Swin UNETR): {sum(p.numel() for p in model.parameters()):,}\")"
   ]
  }
 ],
 "metadata": {
  "kernelspec": {
   "display_name": "mlmi",
   "language": "python",
   "name": "python3"
  },
  "language_info": {
   "codemirror_mode": {
    "name": "ipython",
    "version": 3
   },
   "file_extension": ".py",
   "mimetype": "text/x-python",
   "name": "python",
   "nbconvert_exporter": "python",
   "pygments_lexer": "ipython3",
   "version": "3.11.3"
  },
  "orig_nbformat": 4
 },
 "nbformat": 4,
 "nbformat_minor": 2
}
